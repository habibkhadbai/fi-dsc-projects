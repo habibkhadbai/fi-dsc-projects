{
 "cells": [
  {
   "cell_type": "code",
   "execution_count": 9,
   "metadata": {},
   "outputs": [
    {
     "name": "stdout",
     "output_type": "stream",
     "text": [
      "Please select operation -\n",
      "# 1. Add\n",
      "# 2. Subtract\n",
      "# 3. Multiply\n",
      "# 4. Divide\n",
      "Select operations form 1, 2, 3, 4: 3\n",
      "Enter first number: 4\n",
      "Enter second number: 3\n",
      "The product of numbers is:  12\n"
     ]
    }
   ],
   "source": [
    "# Function to add two numbers \n",
    "def add(num1, num2):\n",
    "    result = num1 + num2\n",
    "    return result\n",
    "\n",
    "# Function to subtract two numbers \n",
    "def subtract(num1, num2):\n",
    "    result = num1 - num2\n",
    "    return result\n",
    "\n",
    "# Function to multiply two numbers\n",
    "def multiply(num1, num2):\n",
    "    result = num1 * num2\n",
    "    return result\n",
    "\n",
    "# Function to divide two numbers\n",
    "def divide(num1, num2):\n",
    "    result = num1 / num2\n",
    "    return result\n",
    "\n",
    "#Print user menu \n",
    "\n",
    "\n",
    "# Take input from the user for operation , followed by numbers. \n",
    "\n",
    "print(\"Please select operation -\")\n",
    "print(\"# 1. Add\")\n",
    "print(\"# 2. Subtract\")\n",
    "print(\"# 3. Multiply\")\n",
    "print(\"# 4. Divide\")\n",
    "\n",
    "option = 0\n",
    "# Print \"Invalid input\" if an unexpected character is seen in input\n",
    "option = input(prompt = \"Select operations form 1, 2, 3, 4: \")\n",
    "if int(option) < 1 or int(option) > 4:\n",
    "    print(\"please check your input\")\n",
    "    option = input(prompt = \"Select operations form 1, 2, 3, 4: \")\n",
    "first_number = input(prompt = \"Enter first number: \")\n",
    "second_number = input(prompt = \"Enter second number: \")\n",
    "\n",
    "# Based on operation, pass the two numbers to respective function\n",
    "# Print the output in a nice manner\n",
    "\n",
    "if int(option) == 1:\n",
    "    print(\"The sum of numbers is: \", add(int(first_number), int(second_number)))\n",
    "elif int(option) == 2:\n",
    "    print(\"The difference of numbers is: \", subtract(int(first_number), int(second_number)))\n",
    "elif int(option) == 3:\n",
    "    print(\"The product of numbers is: \", multiply(int(first_number), int(second_number)))\n",
    "elif int(option) == 4:\n",
    "    print(\"The result of numbers is: \", division(int(first_number), int(second_number)))\n",
    "\n",
    "\n",
    "\n",
    "\n",
    "\n",
    "# Expected output    \n",
    "\n",
    "# Please select operation -\n",
    "# 1. Add\n",
    "# 2. Subtract\n",
    "# 3. Multiply\n",
    "# 4. Divide\n",
    "\n",
    "# Select operations form 1, 2, 3, 4 :1\n",
    "# Enter first number: 2\n",
    "# Enter second number: 3\n",
    "# 2 + 3 = 5"
   ]
  },
  {
   "cell_type": "code",
   "execution_count": null,
   "metadata": {},
   "outputs": [],
   "source": []
  },
  {
   "cell_type": "code",
   "execution_count": null,
   "metadata": {},
   "outputs": [],
   "source": []
  },
  {
   "cell_type": "code",
   "execution_count": null,
   "metadata": {},
   "outputs": [],
   "source": []
  }
 ],
 "metadata": {
  "kernelspec": {
   "display_name": "Python [conda env:.conda-learn-env] *",
   "language": "python",
   "name": "conda-env-.conda-learn-env-py"
  }
 },
 "nbformat": 4,
 "nbformat_minor": 2
}
